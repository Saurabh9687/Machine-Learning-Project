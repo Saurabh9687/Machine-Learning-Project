{
  "nbformat": 4,
  "nbformat_minor": 0,
  "metadata": {
    "colab": {
      "provenance": []
    },
    "kernelspec": {
      "name": "python3",
      "display_name": "Python 3"
    },
    "language_info": {
      "name": "python"
    }
  },
  "cells": [
    {
      "cell_type": "markdown",
      "source": [
        "a) Recall that in ridge regression, we solve the problem minβ\n",
        "λ\n",
        "2 ∥β∥22∥+y − Xβ∥22\n",
        "Using the first order optimality conditions, show that X⊤Xβ + λβ = X⊤y holds, and show\n",
        "that this can be equivalently written as β = X⊤α where α = 1\n",
        "λ (y − Xβ). Further show that\n",
        "α = (X⊤X + λI)−1y. Note that in this relation X⊤X can be effectively replaced by a kernel\n",
        "matrix using the kernel function idea discussed in class as α = (K + λI)−1y. Now, represent the\n",
        "inference function ⟨β, x⟩ using α and hence using kernels. This extension to ridge regression is\n",
        "called kernel ridge regression."
      ],
      "metadata": {
        "id": "r8ot7fHKrrW3"
      }
    },
    {
      "cell_type": "markdown",
      "source": [
        "Ridge Regression\n",
        "\n",
        "$\n",
        "min_{\\beta }\\; \\frac{\\lambda }{2} \\left \\| \\beta  \\right \\|_{2}^{2} + \\left \\| y - X\\beta  \\right \\|_{2}^{2}\n",
        "$\n",
        "\n",
        "Using the first order optimality condition,\n",
        "\n",
        "$\n",
        "L = min_{\\beta }\\; \\frac{\\lambda }{2} \\left \\| \\beta  \\right \\|_{2}^{2} + \\left \\| y - X\\beta  \\right \\|_{2}^{2}\n",
        "$  \n",
        "\n",
        "$\n",
        "\\nabla_{\\beta }L = -2(y-X\\beta )X^{T} + 2\\lambda \\beta = \\vec{0}\n",
        "$\n",
        "\n",
        "$\n",
        "\\nabla_{\\beta }L = -2X^{T}y + 2X^{T}X\\beta +2\\lambda \\beta = 0\n",
        "$\n",
        "\n",
        "So,\n",
        "\n",
        "$\n",
        "\\mathbf{X^{T}X\\beta +\\lambda \\beta = X^{T}y}\n",
        "$\n",
        "\n",
        "Factoring out β,\n",
        "\n",
        "$\n",
        "(X^{T}X + \\lambda I)\\beta  = X^{T}y\n",
        "$\n",
        "\n",
        "Multiplying both sides by \n",
        "$\n",
        "(X^{T}X + \\lambda I)^{-1}\\;,\n",
        "$\n",
        "\n",
        "$\n",
        "\\beta  = (X^{T}X + \\lambda I)^{-1}X^{T}y\n",
        "$\n",
        "\n",
        "we can express β as:\n",
        "\n",
        "$\n",
        "\\beta  = X^{T}\\alpha \\;, where\\; \\alpha  = \\frac{1}{\\lambda } (y - X\\beta )\n",
        "$\n",
        "\n",
        "Substituting \n",
        "$\n",
        "\\beta  = Xᵀ\\alpha , \n",
        "$\n",
        "\n",
        "$\n",
        "X^{T}X(X^{T}\\alpha ) + \\lambda (X^{T}\\alpha ) = X^{T}y\n",
        "$\n",
        "\n",
        "$\n",
        "X^{T}X\\alpha  + \\lambda \\alpha  = X^{T}y\n",
        "$\n",
        "\n",
        "Factoring out α, \n",
        "\n",
        "$\n",
        "(X^{T}X + \\lambda I)\\alpha  = X^{T}y\n",
        "$\n",
        "\n",
        "Multiplying both sides by\n",
        "$\n",
        " (X^{T}X + \\lambda I)^{-1}, \n",
        "$\n",
        "\n",
        "$\n",
        "\\alpha  = \\frac{(X^{T}X + \\lambda I)^{-1}X^{T}y}{\\lambda }\n",
        "$\n",
        "\n",
        "Substituting the expression for α back into \n",
        "$\n",
        "\\beta = X^{T}\\alpha \n",
        "$\n",
        "\n",
        "$\n",
        "\\beta  = X^{T}(X^{T}X + \\lambda I)^{-1}X^{T}y\n",
        "$\n",
        "\n",
        "which is the same as the solution obtained earlier.\n",
        "\n",
        "\n",
        "\n",
        "\n",
        "\n",
        "\n"
      ],
      "metadata": {
        "id": "boE_H8rFsxL7"
      }
    },
    {
      "cell_type": "markdown",
      "source": [
        "Substituting the value of β in terms of α in the equation \n",
        "$\n",
        "X^{T}Xβ + λβ = X^{T}y, \n",
        "$\n",
        "\n",
        "$\n",
        "X^{T}X X^{T}α + λX^{T}α = X^{T}y\n",
        "$\n",
        "\n",
        "$\n",
        "α = (X^{T}X + λI)^{-1}y\n",
        "$\n",
        "\n",
        "Now, to represent the inference function ⟨β, x⟩ using α, we have:\n",
        "\n",
        "$\n",
        "⟨β, x⟩ = x^{T}β = x^{T}X^{T}α = ⟨ϕ(x), X^{T}α⟩\n",
        "$\n",
        "\n",
        "where ϕ(x) is the feature map that maps x to the higher dimensional space in which the linear regression is performed. Using the kernel trick, we can represent this as:\n",
        "\n",
        "$\n",
        "⟨β, x⟩ = ⟨ϕ(x), β⟩ = ⟨ϕ(x), X^{T}α⟩ = ⟨K(x, ·), α⟩\n",
        "$\n",
        "\n",
        "where K(x, ·) is the kernel function that computes the inner product between the feature map of x and the feature map of all the training points. This is the extension to ridge regression known as kernel ridge regression."
      ],
      "metadata": {
        "id": "ImS_Eyooqcab"
      }
    },
    {
      "cell_type": "code",
      "source": [
        "import pandas as pd\n",
        "import matplotlib.pyplot as plt \n",
        "import numpy as np\n",
        "\n",
        "%matplotlib inline"
      ],
      "metadata": {
        "id": "DttgeGVTSqLH"
      },
      "execution_count": 32,
      "outputs": []
    },
    {
      "cell_type": "code",
      "source": [
        "from sklearn.kernel_ridge import KernelRidge\n",
        "from sklearn.model_selection import GridSearchCV\n",
        "from sklearn.model_selection import cross_val_score\n",
        "from sklearn.preprocessing import StandardScaler\n",
        "from sklearn.model_selection import train_test_split\n",
        "from sklearn.metrics import accuracy_score, mean_squared_error, r2_score\n",
        "from sklearn import svm"
      ],
      "metadata": {
        "id": "2lJNs7SYuvxG"
      },
      "execution_count": 33,
      "outputs": []
    },
    {
      "cell_type": "markdown",
      "source": [
        "b) Reading the data set in Data Q2.csv into a pandas dataframe."
      ],
      "metadata": {
        "id": "scW5kczMibDB"
      }
    },
    {
      "cell_type": "code",
      "execution_count": 34,
      "metadata": {
        "colab": {
          "base_uri": "https://localhost:8080/",
          "height": 206
        },
        "id": "yT0tr2Z_SV36",
        "outputId": "56d5d9d2-da48-4da6-8420-d9c11e07b166"
      },
      "outputs": [
        {
          "output_type": "execute_result",
          "data": {
            "text/plain": [
              "        0      1      2      3            4\n",
              "0   5.578  93.00  0.082  0.185  5935.174070\n",
              "1  15.510  64.38  0.085  0.133  6044.657863\n",
              "2  15.730  64.21  0.084  0.152  6061.944778\n",
              "3  15.620  65.22  0.083  0.145  6108.043217\n",
              "4  15.450  67.69  0.083  0.189  6119.567827"
            ],
            "text/html": [
              "\n",
              "  <div id=\"df-077e27e2-5937-43e7-b1fb-e7639391aca4\">\n",
              "    <div class=\"colab-df-container\">\n",
              "      <div>\n",
              "<style scoped>\n",
              "    .dataframe tbody tr th:only-of-type {\n",
              "        vertical-align: middle;\n",
              "    }\n",
              "\n",
              "    .dataframe tbody tr th {\n",
              "        vertical-align: top;\n",
              "    }\n",
              "\n",
              "    .dataframe thead th {\n",
              "        text-align: right;\n",
              "    }\n",
              "</style>\n",
              "<table border=\"1\" class=\"dataframe\">\n",
              "  <thead>\n",
              "    <tr style=\"text-align: right;\">\n",
              "      <th></th>\n",
              "      <th>0</th>\n",
              "      <th>1</th>\n",
              "      <th>2</th>\n",
              "      <th>3</th>\n",
              "      <th>4</th>\n",
              "    </tr>\n",
              "  </thead>\n",
              "  <tbody>\n",
              "    <tr>\n",
              "      <th>0</th>\n",
              "      <td>5.578</td>\n",
              "      <td>93.00</td>\n",
              "      <td>0.082</td>\n",
              "      <td>0.185</td>\n",
              "      <td>5935.174070</td>\n",
              "    </tr>\n",
              "    <tr>\n",
              "      <th>1</th>\n",
              "      <td>15.510</td>\n",
              "      <td>64.38</td>\n",
              "      <td>0.085</td>\n",
              "      <td>0.133</td>\n",
              "      <td>6044.657863</td>\n",
              "    </tr>\n",
              "    <tr>\n",
              "      <th>2</th>\n",
              "      <td>15.730</td>\n",
              "      <td>64.21</td>\n",
              "      <td>0.084</td>\n",
              "      <td>0.152</td>\n",
              "      <td>6061.944778</td>\n",
              "    </tr>\n",
              "    <tr>\n",
              "      <th>3</th>\n",
              "      <td>15.620</td>\n",
              "      <td>65.22</td>\n",
              "      <td>0.083</td>\n",
              "      <td>0.145</td>\n",
              "      <td>6108.043217</td>\n",
              "    </tr>\n",
              "    <tr>\n",
              "      <th>4</th>\n",
              "      <td>15.450</td>\n",
              "      <td>67.69</td>\n",
              "      <td>0.083</td>\n",
              "      <td>0.189</td>\n",
              "      <td>6119.567827</td>\n",
              "    </tr>\n",
              "  </tbody>\n",
              "</table>\n",
              "</div>\n",
              "      <button class=\"colab-df-convert\" onclick=\"convertToInteractive('df-077e27e2-5937-43e7-b1fb-e7639391aca4')\"\n",
              "              title=\"Convert this dataframe to an interactive table.\"\n",
              "              style=\"display:none;\">\n",
              "        \n",
              "  <svg xmlns=\"http://www.w3.org/2000/svg\" height=\"24px\"viewBox=\"0 0 24 24\"\n",
              "       width=\"24px\">\n",
              "    <path d=\"M0 0h24v24H0V0z\" fill=\"none\"/>\n",
              "    <path d=\"M18.56 5.44l.94 2.06.94-2.06 2.06-.94-2.06-.94-.94-2.06-.94 2.06-2.06.94zm-11 1L8.5 8.5l.94-2.06 2.06-.94-2.06-.94L8.5 2.5l-.94 2.06-2.06.94zm10 10l.94 2.06.94-2.06 2.06-.94-2.06-.94-.94-2.06-.94 2.06-2.06.94z\"/><path d=\"M17.41 7.96l-1.37-1.37c-.4-.4-.92-.59-1.43-.59-.52 0-1.04.2-1.43.59L10.3 9.45l-7.72 7.72c-.78.78-.78 2.05 0 2.83L4 21.41c.39.39.9.59 1.41.59.51 0 1.02-.2 1.41-.59l7.78-7.78 2.81-2.81c.8-.78.8-2.07 0-2.86zM5.41 20L4 18.59l7.72-7.72 1.47 1.35L5.41 20z\"/>\n",
              "  </svg>\n",
              "      </button>\n",
              "      \n",
              "  <style>\n",
              "    .colab-df-container {\n",
              "      display:flex;\n",
              "      flex-wrap:wrap;\n",
              "      gap: 12px;\n",
              "    }\n",
              "\n",
              "    .colab-df-convert {\n",
              "      background-color: #E8F0FE;\n",
              "      border: none;\n",
              "      border-radius: 50%;\n",
              "      cursor: pointer;\n",
              "      display: none;\n",
              "      fill: #1967D2;\n",
              "      height: 32px;\n",
              "      padding: 0 0 0 0;\n",
              "      width: 32px;\n",
              "    }\n",
              "\n",
              "    .colab-df-convert:hover {\n",
              "      background-color: #E2EBFA;\n",
              "      box-shadow: 0px 1px 2px rgba(60, 64, 67, 0.3), 0px 1px 3px 1px rgba(60, 64, 67, 0.15);\n",
              "      fill: #174EA6;\n",
              "    }\n",
              "\n",
              "    [theme=dark] .colab-df-convert {\n",
              "      background-color: #3B4455;\n",
              "      fill: #D2E3FC;\n",
              "    }\n",
              "\n",
              "    [theme=dark] .colab-df-convert:hover {\n",
              "      background-color: #434B5C;\n",
              "      box-shadow: 0px 1px 3px 1px rgba(0, 0, 0, 0.15);\n",
              "      filter: drop-shadow(0px 1px 2px rgba(0, 0, 0, 0.3));\n",
              "      fill: #FFFFFF;\n",
              "    }\n",
              "  </style>\n",
              "\n",
              "      <script>\n",
              "        const buttonEl =\n",
              "          document.querySelector('#df-077e27e2-5937-43e7-b1fb-e7639391aca4 button.colab-df-convert');\n",
              "        buttonEl.style.display =\n",
              "          google.colab.kernel.accessAllowed ? 'block' : 'none';\n",
              "\n",
              "        async function convertToInteractive(key) {\n",
              "          const element = document.querySelector('#df-077e27e2-5937-43e7-b1fb-e7639391aca4');\n",
              "          const dataTable =\n",
              "            await google.colab.kernel.invokeFunction('convertToInteractive',\n",
              "                                                     [key], {});\n",
              "          if (!dataTable) return;\n",
              "\n",
              "          const docLinkHtml = 'Like what you see? Visit the ' +\n",
              "            '<a target=\"_blank\" href=https://colab.research.google.com/notebooks/data_table.ipynb>data table notebook</a>'\n",
              "            + ' to learn more about interactive tables.';\n",
              "          element.innerHTML = '';\n",
              "          dataTable['output_type'] = 'display_data';\n",
              "          await google.colab.output.renderOutput(dataTable, element);\n",
              "          const docLink = document.createElement('div');\n",
              "          docLink.innerHTML = docLinkHtml;\n",
              "          element.appendChild(docLink);\n",
              "        }\n",
              "      </script>\n",
              "    </div>\n",
              "  </div>\n",
              "  "
            ]
          },
          "metadata": {},
          "execution_count": 34
        }
      ],
      "source": [
        "Data_Q2 = pd.read_csv('https://raw.githubusercontent.com/Saurabh9687/IE-506--2-/main/Data_Q2.csv',encoding='unicode_escape', index_col=False, header=None)\n",
        "Data_Q2.head()"
      ]
    },
    {
      "cell_type": "code",
      "source": [
        "Data_Q2.columns = ['Temperature','Humidity','Wind Speed','Flow','Consumption']\n",
        "Data_Q2.head()"
      ],
      "metadata": {
        "colab": {
          "base_uri": "https://localhost:8080/",
          "height": 206
        },
        "id": "0h-XaNOAS7dx",
        "outputId": "95d19959-a2d3-4ff7-b4b8-7d3ab9ba1998"
      },
      "execution_count": 35,
      "outputs": [
        {
          "output_type": "execute_result",
          "data": {
            "text/plain": [
              "   Temperature  Humidity  Wind Speed   Flow  Consumption\n",
              "0        5.578     93.00       0.082  0.185  5935.174070\n",
              "1       15.510     64.38       0.085  0.133  6044.657863\n",
              "2       15.730     64.21       0.084  0.152  6061.944778\n",
              "3       15.620     65.22       0.083  0.145  6108.043217\n",
              "4       15.450     67.69       0.083  0.189  6119.567827"
            ],
            "text/html": [
              "\n",
              "  <div id=\"df-07488a8b-d465-4594-8299-b32735314873\">\n",
              "    <div class=\"colab-df-container\">\n",
              "      <div>\n",
              "<style scoped>\n",
              "    .dataframe tbody tr th:only-of-type {\n",
              "        vertical-align: middle;\n",
              "    }\n",
              "\n",
              "    .dataframe tbody tr th {\n",
              "        vertical-align: top;\n",
              "    }\n",
              "\n",
              "    .dataframe thead th {\n",
              "        text-align: right;\n",
              "    }\n",
              "</style>\n",
              "<table border=\"1\" class=\"dataframe\">\n",
              "  <thead>\n",
              "    <tr style=\"text-align: right;\">\n",
              "      <th></th>\n",
              "      <th>Temperature</th>\n",
              "      <th>Humidity</th>\n",
              "      <th>Wind Speed</th>\n",
              "      <th>Flow</th>\n",
              "      <th>Consumption</th>\n",
              "    </tr>\n",
              "  </thead>\n",
              "  <tbody>\n",
              "    <tr>\n",
              "      <th>0</th>\n",
              "      <td>5.578</td>\n",
              "      <td>93.00</td>\n",
              "      <td>0.082</td>\n",
              "      <td>0.185</td>\n",
              "      <td>5935.174070</td>\n",
              "    </tr>\n",
              "    <tr>\n",
              "      <th>1</th>\n",
              "      <td>15.510</td>\n",
              "      <td>64.38</td>\n",
              "      <td>0.085</td>\n",
              "      <td>0.133</td>\n",
              "      <td>6044.657863</td>\n",
              "    </tr>\n",
              "    <tr>\n",
              "      <th>2</th>\n",
              "      <td>15.730</td>\n",
              "      <td>64.21</td>\n",
              "      <td>0.084</td>\n",
              "      <td>0.152</td>\n",
              "      <td>6061.944778</td>\n",
              "    </tr>\n",
              "    <tr>\n",
              "      <th>3</th>\n",
              "      <td>15.620</td>\n",
              "      <td>65.22</td>\n",
              "      <td>0.083</td>\n",
              "      <td>0.145</td>\n",
              "      <td>6108.043217</td>\n",
              "    </tr>\n",
              "    <tr>\n",
              "      <th>4</th>\n",
              "      <td>15.450</td>\n",
              "      <td>67.69</td>\n",
              "      <td>0.083</td>\n",
              "      <td>0.189</td>\n",
              "      <td>6119.567827</td>\n",
              "    </tr>\n",
              "  </tbody>\n",
              "</table>\n",
              "</div>\n",
              "      <button class=\"colab-df-convert\" onclick=\"convertToInteractive('df-07488a8b-d465-4594-8299-b32735314873')\"\n",
              "              title=\"Convert this dataframe to an interactive table.\"\n",
              "              style=\"display:none;\">\n",
              "        \n",
              "  <svg xmlns=\"http://www.w3.org/2000/svg\" height=\"24px\"viewBox=\"0 0 24 24\"\n",
              "       width=\"24px\">\n",
              "    <path d=\"M0 0h24v24H0V0z\" fill=\"none\"/>\n",
              "    <path d=\"M18.56 5.44l.94 2.06.94-2.06 2.06-.94-2.06-.94-.94-2.06-.94 2.06-2.06.94zm-11 1L8.5 8.5l.94-2.06 2.06-.94-2.06-.94L8.5 2.5l-.94 2.06-2.06.94zm10 10l.94 2.06.94-2.06 2.06-.94-2.06-.94-.94-2.06-.94 2.06-2.06.94z\"/><path d=\"M17.41 7.96l-1.37-1.37c-.4-.4-.92-.59-1.43-.59-.52 0-1.04.2-1.43.59L10.3 9.45l-7.72 7.72c-.78.78-.78 2.05 0 2.83L4 21.41c.39.39.9.59 1.41.59.51 0 1.02-.2 1.41-.59l7.78-7.78 2.81-2.81c.8-.78.8-2.07 0-2.86zM5.41 20L4 18.59l7.72-7.72 1.47 1.35L5.41 20z\"/>\n",
              "  </svg>\n",
              "      </button>\n",
              "      \n",
              "  <style>\n",
              "    .colab-df-container {\n",
              "      display:flex;\n",
              "      flex-wrap:wrap;\n",
              "      gap: 12px;\n",
              "    }\n",
              "\n",
              "    .colab-df-convert {\n",
              "      background-color: #E8F0FE;\n",
              "      border: none;\n",
              "      border-radius: 50%;\n",
              "      cursor: pointer;\n",
              "      display: none;\n",
              "      fill: #1967D2;\n",
              "      height: 32px;\n",
              "      padding: 0 0 0 0;\n",
              "      width: 32px;\n",
              "    }\n",
              "\n",
              "    .colab-df-convert:hover {\n",
              "      background-color: #E2EBFA;\n",
              "      box-shadow: 0px 1px 2px rgba(60, 64, 67, 0.3), 0px 1px 3px 1px rgba(60, 64, 67, 0.15);\n",
              "      fill: #174EA6;\n",
              "    }\n",
              "\n",
              "    [theme=dark] .colab-df-convert {\n",
              "      background-color: #3B4455;\n",
              "      fill: #D2E3FC;\n",
              "    }\n",
              "\n",
              "    [theme=dark] .colab-df-convert:hover {\n",
              "      background-color: #434B5C;\n",
              "      box-shadow: 0px 1px 3px 1px rgba(0, 0, 0, 0.15);\n",
              "      filter: drop-shadow(0px 1px 2px rgba(0, 0, 0, 0.3));\n",
              "      fill: #FFFFFF;\n",
              "    }\n",
              "  </style>\n",
              "\n",
              "      <script>\n",
              "        const buttonEl =\n",
              "          document.querySelector('#df-07488a8b-d465-4594-8299-b32735314873 button.colab-df-convert');\n",
              "        buttonEl.style.display =\n",
              "          google.colab.kernel.accessAllowed ? 'block' : 'none';\n",
              "\n",
              "        async function convertToInteractive(key) {\n",
              "          const element = document.querySelector('#df-07488a8b-d465-4594-8299-b32735314873');\n",
              "          const dataTable =\n",
              "            await google.colab.kernel.invokeFunction('convertToInteractive',\n",
              "                                                     [key], {});\n",
              "          if (!dataTable) return;\n",
              "\n",
              "          const docLinkHtml = 'Like what you see? Visit the ' +\n",
              "            '<a target=\"_blank\" href=https://colab.research.google.com/notebooks/data_table.ipynb>data table notebook</a>'\n",
              "            + ' to learn more about interactive tables.';\n",
              "          element.innerHTML = '';\n",
              "          dataTable['output_type'] = 'display_data';\n",
              "          await google.colab.output.renderOutput(dataTable, element);\n",
              "          const docLink = document.createElement('div');\n",
              "          docLink.innerHTML = docLinkHtml;\n",
              "          element.appendChild(docLink);\n",
              "        }\n",
              "      </script>\n",
              "    </div>\n",
              "  </div>\n",
              "  "
            ]
          },
          "metadata": {},
          "execution_count": 35
        }
      ]
    },
    {
      "cell_type": "markdown",
      "source": [
        "c) Performing standardization of each column in the data frame and create a new data\n",
        "frame."
      ],
      "metadata": {
        "id": "Aqpk2yDmiho2"
      }
    },
    {
      "cell_type": "code",
      "source": [
        "scaler = StandardScaler()\n",
        "Data_std_arr = scaler.fit(Data_Q2)\n",
        "Data_std_arr = scaler.transform(Data_Q2)\n",
        "print(Data_std_arr)"
      ],
      "metadata": {
        "colab": {
          "base_uri": "https://localhost:8080/"
        },
        "id": "6nM-uTrIT0NX",
        "outputId": "3abb568e-d76d-4d56-c762-9677802ba24b"
      },
      "execution_count": 36,
      "outputs": [
        {
          "output_type": "stream",
          "name": "stdout",
          "text": [
            "[[-1.93187821  1.40484647 -0.6417913  -0.66437014 -3.45020803]\n",
            " [ 0.40765436 -0.87447368 -0.64041729 -0.66572409 -3.28244223]\n",
            " [ 0.45947647 -0.88801262 -0.64087529 -0.66522938 -3.2559529 ]\n",
            " ...\n",
            " [ 0.24276584  0.55268974  1.57082257 -0.66504712  1.93512737]\n",
            " [-0.39794384  0.16244974 -0.64591333 -0.66647918  1.93512737]\n",
            " [ 0.68325375 -0.83146764 -0.64316531  2.25743913  1.9356659 ]]\n"
          ]
        }
      ]
    },
    {
      "cell_type": "code",
      "source": [
        "Data_std = pd.DataFrame(Data_std_arr, columns=Data_Q2.columns)"
      ],
      "metadata": {
        "id": "L86kxYfM-h3S"
      },
      "execution_count": 37,
      "outputs": []
    },
    {
      "cell_type": "markdown",
      "source": [
        "d) Splitting the data into two sets T1 and T2 and Justifing if the splits T1 and T2 have similar spread in\n",
        "Consumption column."
      ],
      "metadata": {
        "id": "lt5T5wwyisDx"
      }
    },
    {
      "cell_type": "code",
      "source": [
        "T1, T2= train_test_split(Data_std, test_size = 0.20, random_state=42)"
      ],
      "metadata": {
        "id": "t_RDg5peUyKN"
      },
      "execution_count": 38,
      "outputs": []
    },
    {
      "cell_type": "code",
      "source": [
        "T1_std = np.std(T1)\n",
        "T2_std = np.std(T2)\n",
        "print(\"Standard deviation of the dataset T1 is:\", T1_std)\n",
        "print(\"Standard deviation of the dataset T2 is:\", T2_std)"
      ],
      "metadata": {
        "colab": {
          "base_uri": "https://localhost:8080/"
        },
        "id": "SFBeE3R1jgMa",
        "outputId": "bf10c53c-322c-425e-a435-d19e43e4f55f"
      },
      "execution_count": 39,
      "outputs": [
        {
          "output_type": "stream",
          "name": "stdout",
          "text": [
            "Standard deviation of the dataset T1 is: Temperature    0.991211\n",
            "Humidity       1.003977\n",
            "Wind Speed     1.011473\n",
            "Flow           1.011137\n",
            "Consumption    1.009550\n",
            "dtype: float64\n",
            "Standard deviation of the dataset T2 is: Temperature    1.034094\n",
            "Humidity       0.975016\n",
            "Wind Speed     0.944963\n",
            "Flow           0.954104\n",
            "Consumption    0.959361\n",
            "dtype: float64\n"
          ]
        }
      ]
    },
    {
      "cell_type": "markdown",
      "source": [
        "So Standard deviation of T1 and T2 dataset for consumption  are quite near so, the splits T1 and T2 have very low spread in\n",
        "Consumption column."
      ],
      "metadata": {
        "id": "-uSkXkRVj79N"
      }
    },
    {
      "cell_type": "code",
      "source": [
        "T1_X = T1.drop('Consumption', axis=1)\n",
        "T1_y =  T1['Consumption']\n",
        "T1_y.columns = ['Consumption']\n",
        "T2_X = T2.drop('Consumption', axis=1)\n",
        "T2_y = T2['Consumption']\n",
        "T2_y.columns = ['Consumption']\n"
      ],
      "metadata": {
        "id": "MgQ1f9Rs5taM"
      },
      "execution_count": 41,
      "outputs": []
    },
    {
      "cell_type": "markdown",
      "source": [
        "e) Using T1 as training data, training kernel ridge regression model. Using RBF kernel and\n",
        "tune the gamma parameter using 5-fold cross-validation."
      ],
      "metadata": {
        "id": "5A6dZSItkNud"
      }
    },
    {
      "cell_type": "code",
      "source": [
        "def kernel_ridge(X,y):\n",
        "  param_grid = {'kernel': ['rbf'], 'gamma': np.logspace(-5,5,11)}\n",
        "  kr = KernelRidge()\n",
        "  CV_kr = GridSearchCV(estimator=kr, param_grid=param_grid, cv= 5)\n",
        "  CV_kr.fit(X, y)\n",
        "  return  CV_kr.best_params_['gamma']"
      ],
      "metadata": {
        "id": "ePZir4NUxznA"
      },
      "execution_count": 42,
      "outputs": []
    },
    {
      "cell_type": "code",
      "source": [
        "print(\"Best gamma  = \",kernel_ridge(T1_X,T1_y))"
      ],
      "metadata": {
        "colab": {
          "base_uri": "https://localhost:8080/"
        },
        "id": "767Qn6Vlo-g6",
        "outputId": "fae712c1-266a-47f7-a77e-fba1a5a26549"
      },
      "execution_count": 43,
      "outputs": [
        {
          "output_type": "stream",
          "name": "stdout",
          "text": [
            "Best gamma  =  10.0\n"
          ]
        }
      ]
    },
    {
      "cell_type": "markdown",
      "source": [
        "f) Computing and displaying the RMSE and R2 values on the training set T1 and test set\n",
        "T2."
      ],
      "metadata": {
        "id": "z0zsYQZxlQvz"
      }
    },
    {
      "cell_type": "code",
      "source": [
        "kr1=KernelRidge(kernel='rbf',gamma=10)\n",
        "kr1.fit(T1_X, T1_y)\n",
        "pred_T1=kr1.predict(T1_X)\n",
        "\n",
        "mse_T1 = mean_squared_error(T1_y, pred_T1)\n",
        "RMSE_T1 = np.sqrt(mse_T1)\n",
        "r2_T1 = r2_score(T1_y, pred_T1)\n",
        "\n",
        "print(\"RMSE value on the training set T1 = \",RMSE_T1)\n",
        "print(\"R^2 value on the training set T1 = \",r2_T1)\n",
        "\n",
        "pred_T2 =kr1.predict(T2_X)\n",
        "\n",
        "mse_T2 = mean_squared_error(T2_y, pred_T2)\n",
        "RMSE_T2 = np.sqrt(mse_T2)\n",
        "r2_T2 = r2_score(T2_y, pred_T2)\n",
        "\n",
        "print(\"RMSE value on the test set T2 = \",RMSE_T2)\n",
        "print(\"R^2 value on the test set T2 = \",r2_T2)"
      ],
      "metadata": {
        "colab": {
          "base_uri": "https://localhost:8080/"
        },
        "id": "F5Gcd4GKx4ri",
        "outputId": "84de484f-38be-419d-f32d-8de87ab57022"
      },
      "execution_count": 44,
      "outputs": [
        {
          "output_type": "stream",
          "name": "stdout",
          "text": [
            "RMSE value on the training set T1 =  0.6500917245076449\n",
            "R^2 value on the training set T1 =  0.5853383919265936\n",
            "RMSE value on the test set T2 =  0.8128918014697996\n",
            "R^2 value on the test set T2 =  0.2820379758920609\n"
          ]
        }
      ]
    },
    {
      "cell_type": "markdown",
      "source": [
        "g) Considering the original data in Data Q2.csv and loading it into a different pandas dataframe\n",
        "called frame2. Adding another column with name Class to the dataframe frame2 according to consumption values."
      ],
      "metadata": {
        "id": "2xBh1gDUmszT"
      }
    },
    {
      "cell_type": "code",
      "source": [
        "frame2 = pd.DataFrame(Data_Q2)\n",
        "frame2['Class'] = [1 if x <= 6500 else 2 if 6500<x<=7000 else 3 if 7000<x<=7500 else 4 if 7500<x<=8000 else 5 if 8000<x<=8500 else 6 if 8500<x<=9000 else 7 for x in frame2['Consumption']]\n",
        "print(frame2)"
      ],
      "metadata": {
        "colab": {
          "base_uri": "https://localhost:8080/"
        },
        "id": "k1k4PrYv8gJE",
        "outputId": "5357a8aa-1504-4d7f-a5a9-dde55905b131"
      },
      "execution_count": 45,
      "outputs": [
        {
          "output_type": "stream",
          "name": "stdout",
          "text": [
            "     Temperature  Humidity  Wind Speed     Flow  Consumption  Class\n",
            "0          5.578     93.00       0.082    0.185  5935.174070      1\n",
            "1         15.510     64.38       0.085    0.133  6044.657863      1\n",
            "2         15.730     64.21       0.084    0.152  6061.944778      1\n",
            "3         15.620     65.22       0.083    0.145  6108.043217      1\n",
            "4         15.450     67.69       0.083    0.189  6119.567827      1\n",
            "..           ...       ...         ...      ...          ...    ...\n",
            "995       17.330     42.24       4.917   31.540  9443.855422      7\n",
            "996        7.010     76.40       4.920   65.890  9449.638554      7\n",
            "997       14.810     82.30       4.913    0.159  9449.638554      7\n",
            "998       12.090     77.40       0.073    0.104  9449.638554      7\n",
            "999       16.680     64.92       0.079  112.400  9449.990000      7\n",
            "\n",
            "[1000 rows x 6 columns]\n"
          ]
        }
      ]
    },
    {
      "cell_type": "markdown",
      "source": [
        "h) Performing standardization of samples in frame2 belonging to each class separately.\n",
        "Ignoring Class column during standardization procedure."
      ],
      "metadata": {
        "id": "r7q5cznVm9BZ"
      }
    },
    {
      "cell_type": "code",
      "source": [
        "def Standardisation(Data):\n",
        "  cols_to_norm = ['Temperature', 'Humidity', 'Wind Speed', 'Flow', 'Consumption']\n",
        "  scaler = StandardScaler()\n",
        "  Std_Data = scaler.fit(Data[cols_to_norm])\n",
        "  Std_Data = scaler.transform(Data)\n",
        "  return Std_Data"
      ],
      "metadata": {
        "id": "ulYtHHRPBz4a"
      },
      "execution_count": 46,
      "outputs": []
    },
    {
      "cell_type": "code",
      "source": [
        "frame2_new = frame2.drop('Class',axis=1)\n",
        "frame2_new"
      ],
      "metadata": {
        "colab": {
          "base_uri": "https://localhost:8080/",
          "height": 423
        },
        "id": "3vf3OJxSTGOM",
        "outputId": "8653233f-1f6b-407a-e26e-9898a75c02b4"
      },
      "execution_count": 47,
      "outputs": [
        {
          "output_type": "execute_result",
          "data": {
            "text/plain": [
              "     Temperature  Humidity  Wind Speed     Flow  Consumption\n",
              "0          5.578     93.00       0.082    0.185  5935.174070\n",
              "1         15.510     64.38       0.085    0.133  6044.657863\n",
              "2         15.730     64.21       0.084    0.152  6061.944778\n",
              "3         15.620     65.22       0.083    0.145  6108.043217\n",
              "4         15.450     67.69       0.083    0.189  6119.567827\n",
              "..           ...       ...         ...      ...          ...\n",
              "995       17.330     42.24       4.917   31.540  9443.855422\n",
              "996        7.010     76.40       4.920   65.890  9449.638554\n",
              "997       14.810     82.30       4.913    0.159  9449.638554\n",
              "998       12.090     77.40       0.073    0.104  9449.638554\n",
              "999       16.680     64.92       0.079  112.400  9449.990000\n",
              "\n",
              "[1000 rows x 5 columns]"
            ],
            "text/html": [
              "\n",
              "  <div id=\"df-9243464f-b800-4dba-b0b4-8120e6ae5f72\">\n",
              "    <div class=\"colab-df-container\">\n",
              "      <div>\n",
              "<style scoped>\n",
              "    .dataframe tbody tr th:only-of-type {\n",
              "        vertical-align: middle;\n",
              "    }\n",
              "\n",
              "    .dataframe tbody tr th {\n",
              "        vertical-align: top;\n",
              "    }\n",
              "\n",
              "    .dataframe thead th {\n",
              "        text-align: right;\n",
              "    }\n",
              "</style>\n",
              "<table border=\"1\" class=\"dataframe\">\n",
              "  <thead>\n",
              "    <tr style=\"text-align: right;\">\n",
              "      <th></th>\n",
              "      <th>Temperature</th>\n",
              "      <th>Humidity</th>\n",
              "      <th>Wind Speed</th>\n",
              "      <th>Flow</th>\n",
              "      <th>Consumption</th>\n",
              "    </tr>\n",
              "  </thead>\n",
              "  <tbody>\n",
              "    <tr>\n",
              "      <th>0</th>\n",
              "      <td>5.578</td>\n",
              "      <td>93.00</td>\n",
              "      <td>0.082</td>\n",
              "      <td>0.185</td>\n",
              "      <td>5935.174070</td>\n",
              "    </tr>\n",
              "    <tr>\n",
              "      <th>1</th>\n",
              "      <td>15.510</td>\n",
              "      <td>64.38</td>\n",
              "      <td>0.085</td>\n",
              "      <td>0.133</td>\n",
              "      <td>6044.657863</td>\n",
              "    </tr>\n",
              "    <tr>\n",
              "      <th>2</th>\n",
              "      <td>15.730</td>\n",
              "      <td>64.21</td>\n",
              "      <td>0.084</td>\n",
              "      <td>0.152</td>\n",
              "      <td>6061.944778</td>\n",
              "    </tr>\n",
              "    <tr>\n",
              "      <th>3</th>\n",
              "      <td>15.620</td>\n",
              "      <td>65.22</td>\n",
              "      <td>0.083</td>\n",
              "      <td>0.145</td>\n",
              "      <td>6108.043217</td>\n",
              "    </tr>\n",
              "    <tr>\n",
              "      <th>4</th>\n",
              "      <td>15.450</td>\n",
              "      <td>67.69</td>\n",
              "      <td>0.083</td>\n",
              "      <td>0.189</td>\n",
              "      <td>6119.567827</td>\n",
              "    </tr>\n",
              "    <tr>\n",
              "      <th>...</th>\n",
              "      <td>...</td>\n",
              "      <td>...</td>\n",
              "      <td>...</td>\n",
              "      <td>...</td>\n",
              "      <td>...</td>\n",
              "    </tr>\n",
              "    <tr>\n",
              "      <th>995</th>\n",
              "      <td>17.330</td>\n",
              "      <td>42.24</td>\n",
              "      <td>4.917</td>\n",
              "      <td>31.540</td>\n",
              "      <td>9443.855422</td>\n",
              "    </tr>\n",
              "    <tr>\n",
              "      <th>996</th>\n",
              "      <td>7.010</td>\n",
              "      <td>76.40</td>\n",
              "      <td>4.920</td>\n",
              "      <td>65.890</td>\n",
              "      <td>9449.638554</td>\n",
              "    </tr>\n",
              "    <tr>\n",
              "      <th>997</th>\n",
              "      <td>14.810</td>\n",
              "      <td>82.30</td>\n",
              "      <td>4.913</td>\n",
              "      <td>0.159</td>\n",
              "      <td>9449.638554</td>\n",
              "    </tr>\n",
              "    <tr>\n",
              "      <th>998</th>\n",
              "      <td>12.090</td>\n",
              "      <td>77.40</td>\n",
              "      <td>0.073</td>\n",
              "      <td>0.104</td>\n",
              "      <td>9449.638554</td>\n",
              "    </tr>\n",
              "    <tr>\n",
              "      <th>999</th>\n",
              "      <td>16.680</td>\n",
              "      <td>64.92</td>\n",
              "      <td>0.079</td>\n",
              "      <td>112.400</td>\n",
              "      <td>9449.990000</td>\n",
              "    </tr>\n",
              "  </tbody>\n",
              "</table>\n",
              "<p>1000 rows × 5 columns</p>\n",
              "</div>\n",
              "      <button class=\"colab-df-convert\" onclick=\"convertToInteractive('df-9243464f-b800-4dba-b0b4-8120e6ae5f72')\"\n",
              "              title=\"Convert this dataframe to an interactive table.\"\n",
              "              style=\"display:none;\">\n",
              "        \n",
              "  <svg xmlns=\"http://www.w3.org/2000/svg\" height=\"24px\"viewBox=\"0 0 24 24\"\n",
              "       width=\"24px\">\n",
              "    <path d=\"M0 0h24v24H0V0z\" fill=\"none\"/>\n",
              "    <path d=\"M18.56 5.44l.94 2.06.94-2.06 2.06-.94-2.06-.94-.94-2.06-.94 2.06-2.06.94zm-11 1L8.5 8.5l.94-2.06 2.06-.94-2.06-.94L8.5 2.5l-.94 2.06-2.06.94zm10 10l.94 2.06.94-2.06 2.06-.94-2.06-.94-.94-2.06-.94 2.06-2.06.94z\"/><path d=\"M17.41 7.96l-1.37-1.37c-.4-.4-.92-.59-1.43-.59-.52 0-1.04.2-1.43.59L10.3 9.45l-7.72 7.72c-.78.78-.78 2.05 0 2.83L4 21.41c.39.39.9.59 1.41.59.51 0 1.02-.2 1.41-.59l7.78-7.78 2.81-2.81c.8-.78.8-2.07 0-2.86zM5.41 20L4 18.59l7.72-7.72 1.47 1.35L5.41 20z\"/>\n",
              "  </svg>\n",
              "      </button>\n",
              "      \n",
              "  <style>\n",
              "    .colab-df-container {\n",
              "      display:flex;\n",
              "      flex-wrap:wrap;\n",
              "      gap: 12px;\n",
              "    }\n",
              "\n",
              "    .colab-df-convert {\n",
              "      background-color: #E8F0FE;\n",
              "      border: none;\n",
              "      border-radius: 50%;\n",
              "      cursor: pointer;\n",
              "      display: none;\n",
              "      fill: #1967D2;\n",
              "      height: 32px;\n",
              "      padding: 0 0 0 0;\n",
              "      width: 32px;\n",
              "    }\n",
              "\n",
              "    .colab-df-convert:hover {\n",
              "      background-color: #E2EBFA;\n",
              "      box-shadow: 0px 1px 2px rgba(60, 64, 67, 0.3), 0px 1px 3px 1px rgba(60, 64, 67, 0.15);\n",
              "      fill: #174EA6;\n",
              "    }\n",
              "\n",
              "    [theme=dark] .colab-df-convert {\n",
              "      background-color: #3B4455;\n",
              "      fill: #D2E3FC;\n",
              "    }\n",
              "\n",
              "    [theme=dark] .colab-df-convert:hover {\n",
              "      background-color: #434B5C;\n",
              "      box-shadow: 0px 1px 3px 1px rgba(0, 0, 0, 0.15);\n",
              "      filter: drop-shadow(0px 1px 2px rgba(0, 0, 0, 0.3));\n",
              "      fill: #FFFFFF;\n",
              "    }\n",
              "  </style>\n",
              "\n",
              "      <script>\n",
              "        const buttonEl =\n",
              "          document.querySelector('#df-9243464f-b800-4dba-b0b4-8120e6ae5f72 button.colab-df-convert');\n",
              "        buttonEl.style.display =\n",
              "          google.colab.kernel.accessAllowed ? 'block' : 'none';\n",
              "\n",
              "        async function convertToInteractive(key) {\n",
              "          const element = document.querySelector('#df-9243464f-b800-4dba-b0b4-8120e6ae5f72');\n",
              "          const dataTable =\n",
              "            await google.colab.kernel.invokeFunction('convertToInteractive',\n",
              "                                                     [key], {});\n",
              "          if (!dataTable) return;\n",
              "\n",
              "          const docLinkHtml = 'Like what you see? Visit the ' +\n",
              "            '<a target=\"_blank\" href=https://colab.research.google.com/notebooks/data_table.ipynb>data table notebook</a>'\n",
              "            + ' to learn more about interactive tables.';\n",
              "          element.innerHTML = '';\n",
              "          dataTable['output_type'] = 'display_data';\n",
              "          await google.colab.output.renderOutput(dataTable, element);\n",
              "          const docLink = document.createElement('div');\n",
              "          docLink.innerHTML = docLinkHtml;\n",
              "          element.appendChild(docLink);\n",
              "        }\n",
              "      </script>\n",
              "    </div>\n",
              "  </div>\n",
              "  "
            ]
          },
          "metadata": {},
          "execution_count": 47
        }
      ]
    },
    {
      "cell_type": "code",
      "source": [
        "Data_class1 = frame2_new[frame2['Class']==1]\n",
        "Data_class2 = frame2_new[frame2['Class']==2]\n",
        "Data_class3 = frame2_new[frame2['Class']==3]\n",
        "Data_class4 = frame2_new[frame2['Class']==4]\n",
        "Data_class5 = frame2_new[frame2['Class']==5]\n",
        "Data_class6 = frame2_new[frame2['Class']==6]\n",
        "Data_class7 = frame2_new[frame2['Class']==7]"
      ],
      "metadata": {
        "id": "8BuToE8GC2RV"
      },
      "execution_count": 48,
      "outputs": []
    },
    {
      "cell_type": "code",
      "source": [
        "Std_Data_class1 = Standardisation(Data_class1)\n",
        "Std_Data_class2 = Standardisation(Data_class2)\n",
        "Std_Data_class3 = Standardisation(Data_class3)\n",
        "Std_Data_class4 = Standardisation(Data_class4)\n",
        "Std_Data_class5 = Standardisation(Data_class5)\n",
        "Std_Data_class6 = Standardisation(Data_class6)\n",
        "Std_Data_class7 = Standardisation(Data_class7)"
      ],
      "metadata": {
        "id": "FqSSChWBROOd"
      },
      "execution_count": 49,
      "outputs": []
    },
    {
      "cell_type": "code",
      "source": [
        "n_class1 = len(Std_Data_class1)\n",
        "n_class2 = len(Std_Data_class2)\n",
        "n_class3 = len(Std_Data_class3)\n",
        "n_class4 = len(Std_Data_class4)\n",
        "n_class5 = len(Std_Data_class5)\n",
        "n_class6 = len(Std_Data_class6)\n",
        "n_class7 = len(Std_Data_class7)\n",
        "n_class = 7\n",
        "n_samples = len(Data_Q2)"
      ],
      "metadata": {
        "id": "JP_4_0ZtiWmH"
      },
      "execution_count": 50,
      "outputs": []
    },
    {
      "cell_type": "markdown",
      "source": [
        "i) Splitting frame2 into train and test splits T3 and T4, such that the samples in T3 are\n",
        "the same as in T1. Considering T3 as training set, ignoring the Consumption column and considering\n",
        "Class as labels, training a kernel SVM model with RBF kernel. Tuning gamma parameter using 5\n",
        "fold cross-validation"
      ],
      "metadata": {
        "id": "yr_x2W6AnJj1"
      }
    },
    {
      "cell_type": "code",
      "source": [
        "frame2_concat = np.concatenate((Std_Data_class1,Std_Data_class2,Std_Data_class3,Std_Data_class4,Std_Data_class5,Std_Data_class6,Std_Data_class7),axis=0)\n",
        "frame2_concat"
      ],
      "metadata": {
        "id": "H3QOh8t8WchX",
        "colab": {
          "base_uri": "https://localhost:8080/"
        },
        "outputId": "7f469b22-29c8-448c-bd11-2830fbde9a76"
      },
      "execution_count": 51,
      "outputs": [
        {
          "output_type": "execute_result",
          "data": {
            "text/plain": [
              "array([[-1.69057515,  1.56332533, -0.50872666, -0.36562577, -1.92578217],\n",
              "       [ 1.08329527, -1.52519545,  0.5814019 , -0.41227086, -1.30421035],\n",
              "       [ 1.14473823, -1.54354096,  0.21802571, -0.39522746, -1.20606743],\n",
              "       ...,\n",
              "       [-0.05210673,  0.89556148,  1.58365011, -0.72120034,  1.75333848],\n",
              "       [-0.72584916,  0.4976969 , -0.63676314, -0.72226637,  1.75333848],\n",
              "       [ 0.41109119, -0.51563981, -0.63401056,  1.45428086,  1.75585334]])"
            ]
          },
          "metadata": {},
          "execution_count": 51
        }
      ]
    },
    {
      "cell_type": "code",
      "source": [
        "frame2_concat = pd.DataFrame(frame2_concat, columns = ['Temperature', 'Humidity', 'Wind Speed', 'Flow', 'Consumption'])\n",
        "frame2_concat['Class'] = frame2['Class'] "
      ],
      "metadata": {
        "id": "KsgJXNkPlMeB"
      },
      "execution_count": 52,
      "outputs": []
    },
    {
      "cell_type": "code",
      "source": [
        "T3, T4= train_test_split(frame2_concat, test_size = 0.20, random_state=42)"
      ],
      "metadata": {
        "id": "te_5GZ70VHgg"
      },
      "execution_count": 53,
      "outputs": []
    },
    {
      "cell_type": "code",
      "source": [
        "T3_X = T3.drop(['Consumption','Class'],axis=1)\n",
        "T3_y = T3['Class']\n",
        "T4_X = T4.drop(['Consumption','Class'],axis=1)\n",
        "T4_y = T4['Class']"
      ],
      "metadata": {
        "id": "OTu6x7TdVUUY"
      },
      "execution_count": 54,
      "outputs": []
    },
    {
      "cell_type": "code",
      "source": [
        "T3_y_consumption = T3.drop(['Temperature', 'Humidity', 'Wind Speed', 'Flow','Class'],axis=1)\n",
        "T4_y_consumption = T4.drop(['Temperature', 'Humidity', 'Wind Speed', 'Flow','Class'],axis=1)"
      ],
      "metadata": {
        "id": "x8VOxgbdJY4i"
      },
      "execution_count": 55,
      "outputs": []
    },
    {
      "cell_type": "code",
      "source": [
        "print(\"No of samples which have Class 1 = \", n_class1)\n",
        "print(\"No of samples which have Class 2 = \", n_class2)\n",
        "print(\"No of samples which have Class 3 = \", n_class3)\n",
        "print(\"No of samples which have Class 4 = \", n_class4)\n",
        "print(\"No of samples which have Class 5 = \", n_class5)\n",
        "print(\"No of samples which have Class 6 = \", n_class6)\n",
        "print(\"No of samples which have Class 7 = \", n_class7)"
      ],
      "metadata": {
        "colab": {
          "base_uri": "https://localhost:8080/"
        },
        "id": "8IfUPtaCnojw",
        "outputId": "55804b34-fe00-460a-9336-eea05cf8e889"
      },
      "execution_count": 56,
      "outputs": [
        {
          "output_type": "stream",
          "name": "stdout",
          "text": [
            "No of samples which have Class 1 =  15\n",
            "No of samples which have Class 2 =  27\n",
            "No of samples which have Class 3 =  103\n",
            "No of samples which have Class 4 =  218\n",
            "No of samples which have Class 5 =  280\n",
            "No of samples which have Class 6 =  255\n",
            "No of samples which have Class 7 =  102\n"
          ]
        }
      ]
    },
    {
      "cell_type": "markdown",
      "source": [
        "So , Yes Classes have imbalance issue."
      ],
      "metadata": {
        "id": "-emxlaXkn4r7"
      }
    },
    {
      "cell_type": "code",
      "source": [
        "weight_class1 = n_samples/(n_class*n_class1)\n",
        "weight_class2 = n_samples/(n_class*n_class2)\n",
        "weight_class3 = n_samples/(n_class*n_class3)\n",
        "weight_class4 = n_samples/(n_class*n_class4)\n",
        "weight_class5 = n_samples/(n_class*n_class5)\n",
        "weight_class6 = n_samples/(n_class*n_class6)\n",
        "weight_class7 = n_samples/(n_class*n_class7)\n",
        "class_weights =  {1: weight_class1, 2: weight_class2, 3: weight_class3, 4: weight_class4, 5: weight_class5, 6: weight_class6, 7: weight_class7}"
      ],
      "metadata": {
        "id": "SXHp6OucuAad"
      },
      "execution_count": 57,
      "outputs": []
    },
    {
      "cell_type": "code",
      "source": [
        "def kernel_SVM_RBF(X,y):\n",
        "  param_grid = {'kernel': ['rbf'], 'gamma': np.logspace(-3,3,7)}\n",
        "  class_weights =  {1: weight_class1, 2: weight_class2, 3: weight_class3, 4: weight_class4, 5: weight_class5, 6: weight_class6, 7: weight_class7}\n",
        "  svc = svm.SVC(class_weight=class_weights)\n",
        "  CV_svc = GridSearchCV(estimator=svc, param_grid=param_grid, cv= 5)\n",
        "  CV_svc.fit(X, y)\n",
        "  best_gamma = CV_svc.best_params_\n",
        "  return best_gamma"
      ],
      "metadata": {
        "id": "Tayy-mTKceo9"
      },
      "execution_count": 58,
      "outputs": []
    },
    {
      "cell_type": "code",
      "source": [
        "print(\"Best gamma for T3 set = \",kernel_SVM_RBF(T3_X,T3_y))"
      ],
      "metadata": {
        "id": "doK9DQJslI7G",
        "colab": {
          "base_uri": "https://localhost:8080/"
        },
        "outputId": "25adeb56-6526-4e47-f583-3d6529e65675"
      },
      "execution_count": 59,
      "outputs": [
        {
          "output_type": "stream",
          "name": "stdout",
          "text": [
            "Best gamma for T3 set =  {'gamma': 10.0, 'kernel': 'rbf'}\n"
          ]
        }
      ]
    },
    {
      "cell_type": "markdown",
      "source": [
        "j) Now considering samples belonging to a particular class i in T3, building a kernel ridge\n",
        "regression model with RBF kernel (ignoring the Class column for this task). Tuning gamma parameter\n",
        "using 5 fold cross-validation restricted to samples belonging to only class i. Repeating this\n",
        "for each class. "
      ],
      "metadata": {
        "id": "nPvOw4GLoSlJ"
      }
    },
    {
      "cell_type": "code",
      "source": [
        "T3_class1 = T3[frame2['Class']==1]\n",
        "T3_class2 = T3[frame2['Class']==2]\n",
        "T3_class3 = T3[frame2['Class']==3]\n",
        "T3_class4 = T3[frame2['Class']==4]\n",
        "T3_class5 = T3[frame2['Class']==5]\n",
        "T3_class6 = T3[frame2['Class']==6]\n",
        "T3_class7 = T3[frame2['Class']==7]"
      ],
      "metadata": {
        "id": "PYg1A7v2oNVm",
        "colab": {
          "base_uri": "https://localhost:8080/"
        },
        "outputId": "0da64d38-1b69-4a32-91c9-2ff9ebbe5a8c"
      },
      "execution_count": 60,
      "outputs": [
        {
          "output_type": "stream",
          "name": "stderr",
          "text": [
            "<ipython-input-60-02fd361c435d>:1: UserWarning: Boolean Series key will be reindexed to match DataFrame index.\n",
            "  T3_class1 = T3[frame2['Class']==1]\n",
            "<ipython-input-60-02fd361c435d>:2: UserWarning: Boolean Series key will be reindexed to match DataFrame index.\n",
            "  T3_class2 = T3[frame2['Class']==2]\n",
            "<ipython-input-60-02fd361c435d>:3: UserWarning: Boolean Series key will be reindexed to match DataFrame index.\n",
            "  T3_class3 = T3[frame2['Class']==3]\n",
            "<ipython-input-60-02fd361c435d>:4: UserWarning: Boolean Series key will be reindexed to match DataFrame index.\n",
            "  T3_class4 = T3[frame2['Class']==4]\n",
            "<ipython-input-60-02fd361c435d>:5: UserWarning: Boolean Series key will be reindexed to match DataFrame index.\n",
            "  T3_class5 = T3[frame2['Class']==5]\n",
            "<ipython-input-60-02fd361c435d>:6: UserWarning: Boolean Series key will be reindexed to match DataFrame index.\n",
            "  T3_class6 = T3[frame2['Class']==6]\n",
            "<ipython-input-60-02fd361c435d>:7: UserWarning: Boolean Series key will be reindexed to match DataFrame index.\n",
            "  T3_class7 = T3[frame2['Class']==7]\n"
          ]
        }
      ]
    },
    {
      "cell_type": "code",
      "source": [
        "T3_class1_X = T3_class1.drop(['Consumption','Class'],axis=1)\n",
        "T3_class1_y = T3_class1['Consumption']\n",
        "\n",
        "T3_class2_X = T3_class2.drop(['Consumption','Class'],axis=1)\n",
        "T3_class2_y = T3_class2['Consumption']\n",
        "\n",
        "T3_class3_X = T3_class3.drop(['Consumption','Class'],axis=1)\n",
        "T3_class3_y = T3_class3['Consumption']\n",
        "\n",
        "T3_class4_X = T3_class4.drop(['Consumption','Class'],axis=1)\n",
        "T3_class4_y = T3_class4['Consumption']\n",
        "\n",
        "T3_class5_X = T3_class5.drop(['Consumption','Class'],axis=1)\n",
        "T3_class5_y = T3_class5['Consumption']\n",
        "\n",
        "T3_class6_X = T3_class6.drop(['Consumption','Class'],axis=1)\n",
        "T3_class6_y = T3_class6['Consumption']\n",
        "\n",
        "T3_class7_X = T3_class7.drop(['Consumption','Class'],axis=1)\n",
        "T3_class7_y = T3_class7['Consumption']"
      ],
      "metadata": {
        "id": "fUKBN3i4csBU"
      },
      "execution_count": 61,
      "outputs": []
    },
    {
      "cell_type": "code",
      "source": [
        "print(\"Best gamma for Class 1 set = \",kernel_ridge(T3_class1_X,T3_class1_y))\n",
        "print(\"Best gamma for Class 2 set = \",kernel_ridge(T3_class2_X,T3_class2_y))\n",
        "print(\"Best gamma for Class 3 set = \",kernel_ridge(T3_class3_X,T3_class3_y))\n",
        "print(\"Best gamma for Class 4 set = \",kernel_ridge(T3_class4_X,T3_class4_y))\n",
        "print(\"Best gamma for Class 5 set = \",kernel_ridge(T3_class5_X,T3_class5_y))\n",
        "print(\"Best gamma for Class 6 set = \",kernel_ridge(T3_class6_X,T3_class6_y))\n",
        "print(\"Best gamma for Class 7 set = \",kernel_ridge(T3_class7_X,T3_class7_y))"
      ],
      "metadata": {
        "id": "SYhXli6OlHI1",
        "colab": {
          "base_uri": "https://localhost:8080/"
        },
        "outputId": "54a0a94b-537c-4a4e-851a-a661e1f2d386"
      },
      "execution_count": 62,
      "outputs": [
        {
          "output_type": "stream",
          "name": "stdout",
          "text": [
            "Best gamma for Class 1 set =  1.0\n",
            "Best gamma for Class 2 set =  1.0\n",
            "Best gamma for Class 3 set =  0.01\n",
            "Best gamma for Class 4 set =  10.0\n",
            "Best gamma for Class 5 set =  100.0\n",
            "Best gamma for Class 6 set =  10.0\n",
            "Best gamma for Class 7 set =  10.0\n"
          ]
        }
      ]
    },
    {
      "cell_type": "markdown",
      "source": [
        "k) For testing (or) inference, implementing the following procedure: for any sample, first\n",
        "predicting the class label as j and then based on the class label j, using model Mj to predict the\n",
        "Consumption value. Using this procedure, finding the RMSE values for T3 and T4."
      ],
      "metadata": {
        "id": "Qga0bt6sqX1o"
      }
    },
    {
      "cell_type": "code",
      "source": [
        "svc1=svm.SVC(kernel = 'rbf',gamma=10,class_weight=class_weights)\n",
        "svc1.fit(T3_X,T3_y)\n",
        "T3_pred_class=svc1.predict(T3_X)\n",
        "y_pred_T3 = []\n",
        "\n",
        "for i in range(len(T3_pred_class)):\n",
        "  if T3_pred_class[i] == 1:\n",
        "    M1 = KernelRidge(kernel='rbf',gamma=1)\n",
        "    M1.fit(T3_class1_X,T3_class1_y)\n",
        "    y_pred_T3.append(M1.predict(T3_X))\n",
        "  elif T3_pred_class[i] == 2:\n",
        "    M2 = KernelRidge(kernel='rbf',gamma=1)\n",
        "    M2.fit(T3_class2_X,T3_class2_y)\n",
        "    y_pred_T3.append(M2.predict(T3_X))\n",
        "  elif T3_pred_class[i] == 3:\n",
        "    M3 = KernelRidge(kernel='rbf',gamma=0.01)\n",
        "    M3.fit(T3_class3_X,T3_class3_y)\n",
        "    y_pred_T3.append(M3.predict(T3_X))\n",
        "  elif T3_pred_class[i] == 4:\n",
        "    M4 = KernelRidge(kernel='rbf',gamma=10)\n",
        "    M4.fit(T3_class4_X,T3_class4_y)\n",
        "    y_pred_T3.append(M4.predict(T3_X))\n",
        "  elif T3_pred_class[i] == 5:\n",
        "    M5 = KernelRidge(kernel='rbf',gamma=100)\n",
        "    M5.fit(T3_class5_X,T3_class5_y)\n",
        "    y_pred_T3.append(M5.predict(T3_X))\n",
        "  elif T3_pred_class[i] == 6:\n",
        "    M6 = KernelRidge(kernel='rbf',gamma=10)\n",
        "    M6.fit(T3_class6_X,T3_class6_y)\n",
        "    y_pred_T3.append(M6.predict(T3_X))\n",
        "  else:\n",
        "    M7 = KernelRidge(kernel='rbf',gamma=10)\n",
        "    M7.fit(T3_class7_X,T3_class7_y)\n",
        "    y_pred_T3.append(M7.predict(T3_X))\n",
        "\n",
        "\n",
        "\n",
        "T3_y_consumption_arr = T3_y_consumption.to_numpy()\n",
        "\n",
        "\n",
        "sum_sq_residuals = 0\n",
        "for i in range(len(y_pred_T3)): \n",
        "  sum_sq_residuals += (T3_y_consumption_arr[i][0]-y_pred_T3[i][0])**2\n",
        "\n",
        "RMSE_T3 = np.sqrt(sum_sq_residuals)\n",
        "\n",
        "\n",
        "sigma_yy = 0\n",
        "y_bar = 0\n",
        "for i in range(len(y_pred_T3)):\n",
        "  y_bar += float(T3_y_consumption.iat[i,0])/len(y_pred_T3)\n",
        "for i in range(len(y_pred_T3)): \n",
        "  y_i = float(T3_y_consumption.iat[i,0]) \n",
        "  sigma_yy += (y_i-y_bar)**2\n",
        "R_sq_T3 = 1.0-sum_sq_residuals/sigma_yy\n",
        "print(\"RMSE value on set T3 = \",RMSE_T3)\n",
        "print(\"R^2 value on set T3 = \",R_sq_T3)"
      ],
      "metadata": {
        "id": "qP7IvBpy1rdb",
        "colab": {
          "base_uri": "https://localhost:8080/"
        },
        "outputId": "e1a97dd1-957c-475b-bb73-1dc2d604d42e"
      },
      "execution_count": 63,
      "outputs": [
        {
          "output_type": "stream",
          "name": "stdout",
          "text": [
            "RMSE value on set T3 =  28.420132802352782\n",
            "R^2 value on set T3 =  -0.007846005651128918\n"
          ]
        }
      ]
    },
    {
      "cell_type": "code",
      "source": [
        "svc1=svm.SVC(kernel = 'rbf',gamma=10,class_weight=class_weights)\n",
        "svc1.fit(T4_X,T4_y)\n",
        "T4_pred_class=svc1.predict(T4_X)\n",
        "y_pred_T4 = []\n",
        "\n",
        "for i in range(len(T4_pred_class)):\n",
        "  if T4_pred_class[i] == 1:\n",
        "    y_pred_T4.append(M1.predict(T4_X))\n",
        "  elif T4_pred_class[i] == 2:\n",
        "    y_pred_T4.append(M2.predict(T4_X))\n",
        "  elif T4_pred_class[i] == 3:\n",
        "    y_pred_T4.append(M3.predict(T4_X))\n",
        "  elif T4_pred_class[i] == 4:\n",
        "    y_pred_T4.append(M4.predict(T4_X))\n",
        "  elif T4_pred_class[i] == 5:\n",
        "    y_pred_T4.append(M5.predict(T4_X))\n",
        "  elif T4_pred_class[i] == 6:\n",
        "    y_pred_T4.append(M6.predict(T4_X))\n",
        "  else:\n",
        "    y_pred_T4.append(M7.predict(T4_X))\n",
        "\n",
        "\n",
        "\n",
        "T4_y_consumption_arr = T4_y_consumption.to_numpy()\n",
        "\n",
        "sum_sq_residuals_T4 = 0\n",
        "for i in range(len(y_pred_T4)): \n",
        "  sum_sq_residuals_T4 += (T4_y_consumption_arr[i][0]-y_pred_T4[i][0])**2\n",
        "\n",
        "RMSE_T4 = np.sqrt(sum_sq_residuals_T4)\n",
        "\n",
        "\n",
        "sigma_yy_T4 = 0\n",
        "y_bar_T4 = 0\n",
        "for i in range(len(y_pred_T4)):\n",
        "  y_bar_T4 += float(T4_y_consumption.iat[i,0])/len(y_pred_T4)\n",
        "for i in range(len(y_pred_T4)): \n",
        "  y_i_T4 = float(T4_y_consumption.iat[i,0]) \n",
        "  sigma_yy_T4 += (y_i_T4-y_bar_T4)**2\n",
        "R_sq_T4 = 1.0-(sum_sq_residuals_T4/sigma_yy_T4)\n",
        "print(\"RMSE value on set T4 = \",RMSE_T4)\n",
        "print(\"R^2 value on set T4 = \",R_sq_T4)"
      ],
      "metadata": {
        "id": "B6xnchol2qY6",
        "colab": {
          "base_uri": "https://localhost:8080/"
        },
        "outputId": "33422bd4-548b-4b3f-84f1-f54889e0a078"
      },
      "execution_count": 64,
      "outputs": [
        {
          "output_type": "stream",
          "name": "stdout",
          "text": [
            "RMSE value on set T4 =  13.996001896490897\n",
            "R^2 value on set T4 =  0.008937038203345238\n"
          ]
        }
      ]
    },
    {
      "cell_type": "markdown",
      "source": [
        "l) Compare and contrast the RMSE values obtained in part (f) and part (k). Using\n",
        "your observations, suggest when the two-stage approach of classification-followed-by-regression\n",
        "would be useful when compared to the simple regression approach on the full data set."
      ],
      "metadata": {
        "id": "GrqHgmWxZB04"
      }
    },
    {
      "cell_type": "code",
      "source": [
        "print(\"RMSE value on the training set T1 = \",RMSE_T1)\n",
        "print(\"R^2 value on the training set T1 = \",r2_T1)\n",
        "print(\"RMSE value on the test set T2 = \",RMSE_T2)\n",
        "print(\"R^2 value on the test set T2 = \",r2_T2)\n",
        "print(\"RMSE value on set T3 = \",RMSE_T3)\n",
        "print(\"R^2 value on set T3 = \",R_sq_T3)\n",
        "print(\"RMSE value on set T4 = \",RMSE_T4)\n",
        "print(\"R^2 value on set T4 = \",R_sq_T4)"
      ],
      "metadata": {
        "colab": {
          "base_uri": "https://localhost:8080/"
        },
        "id": "f1uIuIZltH6m",
        "outputId": "45be0117-4619-4201-9f01-4cf35129086c"
      },
      "execution_count": 65,
      "outputs": [
        {
          "output_type": "stream",
          "name": "stdout",
          "text": [
            "RMSE value on the training set T1 =  0.6500917245076449\n",
            "R^2 value on the training set T1 =  0.5853383919265936\n",
            "RMSE value on the test set T2 =  0.8128918014697996\n",
            "R^2 value on the test set T2 =  0.2820379758920609\n",
            "RMSE value on set T3 =  28.420132802352782\n",
            "R^2 value on set T3 =  -0.007846005651128918\n",
            "RMSE value on set T4 =  13.996001896490897\n",
            "R^2 value on set T4 =  0.008937038203345238\n"
          ]
        }
      ]
    },
    {
      "cell_type": "markdown",
      "source": [
        "In part (f), we trained a kernel ridge regression model on the entire dataset, while in part (k), we used a two-stage approach of first predicting the class label using an kernel SVM model with RBF kernel and then using a  kernel ridge regression model for the corresponding class to predict the Consumption value.\n",
        "\n",
        "The RMSE values obtained in part (f) were very low for T3 and T4 (<1), while in part (k), the RMSE values are very high for T3 and T4. Thus, the two-stage approach resulted in higher RMSE values for both T3 and T4. This is because,\n",
        "in two-stage approach of classification-followed-by-regression, the classification model is not able to accurately predict the class labels for all samples, leading to incorrect regression models being used for some samples.\n",
        "\n",
        "\n",
        "\n",
        "\n",
        "\n"
      ],
      "metadata": {
        "id": "d0cvbfF0bATM"
      }
    },
    {
      "cell_type": "markdown",
      "source": [
        "I think, the two-stage approach of classification-followed-by-regression\n",
        "would be useful  compared to the simple regression approach on the full data set when, the classification model is able to accurately predict the class labels for all samples or the dataset have clear class boundaries or the number of samples per class are balanced or the hyperparameters of the classification and regression models are tuned optimally."
      ],
      "metadata": {
        "id": "BSXL36lltjCC"
      }
    }
  ]
}